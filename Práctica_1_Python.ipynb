{
  "nbformat": 4,
  "nbformat_minor": 0,
  "metadata": {
    "colab": {
      "provenance": [],
      "include_colab_link": true
    },
    "kernelspec": {
      "name": "python3",
      "display_name": "Python 3"
    },
    "language_info": {
      "name": "python"
    }
  },
  "cells": [
    {
      "cell_type": "markdown",
      "metadata": {
        "id": "view-in-github",
        "colab_type": "text"
      },
      "source": [
        "<a href=\"https://colab.research.google.com/github/Prof-Luis1986/PracticasPythonISB/blob/master/Pr%C3%A1ctica_1_Python.ipynb\" target=\"_parent\"><img src=\"https://colab.research.google.com/assets/colab-badge.svg\" alt=\"Open In Colab\"/></a>"
      ]
    },
    {
      "cell_type": "markdown",
      "source": [
        "# Bienvenido a Python\n",
        "### Curso-Codifica Software De Sistemas Informáticos\n",
        "##### Prof.Luis Alfonso Martínez Alfaro\n",
        "\n",
        "## Introducción\n",
        "\n",
        "¡Hola! En esta práctica, aprenderás a interactuar con el usuario y a utilizar algunas funciones básicas en Python. Sigue las instrucciones para armar tu programa poco a poco.\n",
        "\n",
        "---\n",
        "\n",
        "## Paso 1: Bienvenida al usuario\n",
        "\n",
        "Vamos a comenzar creando un mensaje de bienvenida. Escribe el siguiente código en tu editor de Python que aparece abajo:\n",
        "\n",
        "```python\n",
        "print(\"Bienvenido a Python por favor sigue las instrucciones\")\n",
        "```\n"
      ],
      "metadata": {
        "id": "SpVPSNGlSH9t"
      }
    },
    {
      "cell_type": "code",
      "source": [],
      "metadata": {
        "colab": {
          "base_uri": "https://localhost:8080/"
        },
        "id": "PCnMeTRSS9kc",
        "outputId": "f07a4a12-0896-48c5-b089-80df49bd8b61"
      },
      "execution_count": null,
      "outputs": [
        {
          "output_type": "stream",
          "name": "stdout",
          "text": [
            "Bienvenido a Python por favor sigue las instrucciones\n"
          ]
        }
      ]
    },
    {
      "cell_type": "markdown",
      "source": [
        "---\n",
        "##Paso 2: Pedir el nombre del usuario\n",
        "\n",
        "##Ahora vamos a pedir al usuario que ingrese su nombre. Escribe el siguiente código en tu editor de Python que aparece abajo:\n",
        "\n",
        "```python\n",
        "nombre = input(\"Ingresa tu nombre: \")\n",
        "```\n",
        "\n"
      ],
      "metadata": {
        "id": "gvezEsEqTeEr"
      }
    },
    {
      "cell_type": "code",
      "source": [
        "\n"
      ],
      "metadata": {
        "colab": {
          "base_uri": "https://localhost:8080/"
        },
        "id": "pAG9vcm2VlIV",
        "outputId": "ad9b61ce-254a-4e6b-dcea-c168d78721a4"
      },
      "execution_count": null,
      "outputs": [
        {
          "name": "stdout",
          "output_type": "stream",
          "text": [
            "Ingresa tu nombre: Luis\n"
          ]
        }
      ]
    },
    {
      "cell_type": "markdown",
      "source": [
        "---\n",
        "##Paso 3: Saludar al usuario por su nombre\n",
        "\n",
        "##Vamos a utilizar el nombre que ingresó el usuario para saludarlo. Añade la siguiente línea de código:\n",
        "\n",
        "```python\n",
        "print(\"Hola\", nombre, \"espero que disfrutes de Python\")\n",
        "```"
      ],
      "metadata": {
        "id": "sfWxqwfUWHXw"
      }
    },
    {
      "cell_type": "code",
      "source": [
        "\n"
      ],
      "metadata": {
        "colab": {
          "base_uri": "https://localhost:8080/"
        },
        "id": "WER57iyNW0-_",
        "outputId": "88e47c4c-37fb-4e71-ca89-aad86fc66b55"
      },
      "execution_count": null,
      "outputs": [
        {
          "output_type": "stream",
          "name": "stdout",
          "text": [
            "Hola Luis espero que disfrutes de Python\n"
          ]
        }
      ]
    },
    {
      "cell_type": "markdown",
      "source": [
        "---\n",
        "##Paso 4: Contar los caracteres del nombre\n",
        "\n",
        "\n",
        "##Finalmente, vamos a contar cuántos caracteres tiene el nombre del usuario y mostrar esta información. Añade la siguiente línea de código:\n",
        "\n",
        "\n",
        "```python\n",
        "print(\"El número de caracteres en tu nombre es:\", len(nombre))\n",
        "```"
      ],
      "metadata": {
        "id": "vIsCXhiFXDbR"
      }
    },
    {
      "cell_type": "code",
      "source": [],
      "metadata": {
        "id": "h7bllGUgXroM"
      },
      "execution_count": null,
      "outputs": []
    },
    {
      "cell_type": "markdown",
      "source": [
        "---\n",
        "##Paso 5: Agrega algo extra\n",
        "\n",
        "\n",
        "##¡Bien hecho! Ahora tu programa debería verse así:\n",
        "\n",
        "\n",
        "```python\n",
        "print(\"Bienvenido a Python por favor sigue las instrucciones\")\n",
        "nombre = input(\"Ingresa tu nombre: \")\n",
        "print(\"Hola\", nombre, \"espero que disfrutes de Python\")\n",
        "print(\"El número de caracteres en tu nombre es:\", len(nombre))\n",
        "\n",
        "```\n",
        "##Desafio\n",
        "\n",
        "##Vamos a pedir más información al usuario: su edad, fecha de nacimiento y lugar de nacimiento. Luego, muestra esta información en un nuevo codigo en el editor que viene debajo.\n",
        "\n"
      ],
      "metadata": {
        "id": "pQ4JwcRUXvgm"
      }
    },
    {
      "cell_type": "code",
      "source": [],
      "metadata": {
        "id": "xIR8pznyZUq6"
      },
      "execution_count": null,
      "outputs": []
    }
  ]
}